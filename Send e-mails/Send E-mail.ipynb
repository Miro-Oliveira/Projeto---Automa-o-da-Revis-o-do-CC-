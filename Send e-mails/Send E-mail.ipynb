{
 "cells": [
  {
   "cell_type": "code",
   "execution_count": 9,
   "id": "1120d4ad-7166-4878-a483-38ba433e5b2c",
   "metadata": {},
   "outputs": [],
   "source": [
    "#Funções para enviar o e-mail:\n",
    "import smtplib\n",
    "from email.mime.multipart import MIMEMultipart\n",
    "from email.mime.text import MIMEText\n",
    "from email.mime.base import MIMEBase\n",
    "from email import encoders\n",
    "import pandas as pd\n",
    "from fpdf import FPDF\n",
    "import os\n"
   ]
  },
  {
   "cell_type": "code",
   "execution_count": 13,
   "id": "48cfe827-9f17-447d-973b-fcfcf4b77fe2",
   "metadata": {},
   "outputs": [
    {
     "ename": "SMTPAuthenticationError",
     "evalue": "(535, b'5.7.139 Authentication unsuccessful, basic authentication is disabled. [CP6P284CA0089.BRAP284.PROD.OUTLOOK.COM 2025-01-17T20:35:56.192Z 08DD3625D7667CA6]')",
     "output_type": "error",
     "traceback": [
      "\u001b[1;31m---------------------------------------------------------------------------\u001b[0m",
      "\u001b[1;31mSMTPAuthenticationError\u001b[0m                   Traceback (most recent call last)",
      "Cell \u001b[1;32mIn[13], line 54\u001b[0m\n\u001b[0;32m     52\u001b[0m email_usuario \u001b[38;5;241m=\u001b[39m \u001b[38;5;124m\"\u001b[39m\u001b[38;5;124mmirosmar.oliveira@hotmail.com\u001b[39m\u001b[38;5;124m\"\u001b[39m  \u001b[38;5;66;03m# Substitua pelo seu e-mail do Outlook\u001b[39;00m\n\u001b[0;32m     53\u001b[0m senha_usuario \u001b[38;5;241m=\u001b[39m \u001b[38;5;124m\"\u001b[39m\u001b[38;5;124mMirosmar@282020\u001b[39m\u001b[38;5;124m\"\u001b[39m  \u001b[38;5;66;03m# Substitua pela sua senha\u001b[39;00m\n\u001b[1;32m---> 54\u001b[0m enviar_emails(agrupados, email_usuario, senha_usuario)\n",
      "Cell \u001b[1;32mIn[13], line 9\u001b[0m, in \u001b[0;36menviar_emails\u001b[1;34m(dados, email_usuario, senha_usuario)\u001b[0m\n\u001b[0;32m      7\u001b[0m \u001b[38;5;28;01mwith\u001b[39;00m smtplib\u001b[38;5;241m.\u001b[39mSMTP(smtp_host, smtp_port) \u001b[38;5;28;01mas\u001b[39;00m server:\n\u001b[0;32m      8\u001b[0m     server\u001b[38;5;241m.\u001b[39mstarttls()  \u001b[38;5;66;03m# Iniciar conexão segura\u001b[39;00m\n\u001b[1;32m----> 9\u001b[0m     server\u001b[38;5;241m.\u001b[39mlogin(email_usuario, senha_usuario)  \u001b[38;5;66;03m# Autenticar no servidor\u001b[39;00m\n\u001b[0;32m     11\u001b[0m     \u001b[38;5;28;01mfor\u001b[39;00m index, row \u001b[38;5;129;01min\u001b[39;00m dados\u001b[38;5;241m.\u001b[39miterrows():\n\u001b[0;32m     12\u001b[0m         \u001b[38;5;66;03m# Criar a mensagem\u001b[39;00m\n\u001b[0;32m     13\u001b[0m         msg \u001b[38;5;241m=\u001b[39m MIMEMultipart()\n",
      "File \u001b[1;32m~\\anaconda3\\Lib\\smtplib.py:750\u001b[0m, in \u001b[0;36mSMTP.login\u001b[1;34m(self, user, password, initial_response_ok)\u001b[0m\n\u001b[0;32m    747\u001b[0m         last_exception \u001b[38;5;241m=\u001b[39m e\n\u001b[0;32m    749\u001b[0m \u001b[38;5;66;03m# We could not login successfully.  Return result of last attempt.\u001b[39;00m\n\u001b[1;32m--> 750\u001b[0m \u001b[38;5;28;01mraise\u001b[39;00m last_exception\n",
      "File \u001b[1;32m~\\anaconda3\\Lib\\smtplib.py:739\u001b[0m, in \u001b[0;36mSMTP.login\u001b[1;34m(self, user, password, initial_response_ok)\u001b[0m\n\u001b[0;32m    737\u001b[0m method_name \u001b[38;5;241m=\u001b[39m \u001b[38;5;124m'\u001b[39m\u001b[38;5;124mauth_\u001b[39m\u001b[38;5;124m'\u001b[39m \u001b[38;5;241m+\u001b[39m authmethod\u001b[38;5;241m.\u001b[39mlower()\u001b[38;5;241m.\u001b[39mreplace(\u001b[38;5;124m'\u001b[39m\u001b[38;5;124m-\u001b[39m\u001b[38;5;124m'\u001b[39m, \u001b[38;5;124m'\u001b[39m\u001b[38;5;124m_\u001b[39m\u001b[38;5;124m'\u001b[39m)\n\u001b[0;32m    738\u001b[0m \u001b[38;5;28;01mtry\u001b[39;00m:\n\u001b[1;32m--> 739\u001b[0m     (code, resp) \u001b[38;5;241m=\u001b[39m \u001b[38;5;28mself\u001b[39m\u001b[38;5;241m.\u001b[39mauth(\n\u001b[0;32m    740\u001b[0m         authmethod, \u001b[38;5;28mgetattr\u001b[39m(\u001b[38;5;28mself\u001b[39m, method_name),\n\u001b[0;32m    741\u001b[0m         initial_response_ok\u001b[38;5;241m=\u001b[39minitial_response_ok)\n\u001b[0;32m    742\u001b[0m     \u001b[38;5;66;03m# 235 == 'Authentication successful'\u001b[39;00m\n\u001b[0;32m    743\u001b[0m     \u001b[38;5;66;03m# 503 == 'Error: already authenticated'\u001b[39;00m\n\u001b[0;32m    744\u001b[0m     \u001b[38;5;28;01mif\u001b[39;00m code \u001b[38;5;129;01min\u001b[39;00m (\u001b[38;5;241m235\u001b[39m, \u001b[38;5;241m503\u001b[39m):\n",
      "File \u001b[1;32m~\\anaconda3\\Lib\\smtplib.py:662\u001b[0m, in \u001b[0;36mSMTP.auth\u001b[1;34m(self, mechanism, authobject, initial_response_ok)\u001b[0m\n\u001b[0;32m    660\u001b[0m \u001b[38;5;28;01mif\u001b[39;00m code \u001b[38;5;129;01min\u001b[39;00m (\u001b[38;5;241m235\u001b[39m, \u001b[38;5;241m503\u001b[39m):\n\u001b[0;32m    661\u001b[0m     \u001b[38;5;28;01mreturn\u001b[39;00m (code, resp)\n\u001b[1;32m--> 662\u001b[0m \u001b[38;5;28;01mraise\u001b[39;00m SMTPAuthenticationError(code, resp)\n",
      "\u001b[1;31mSMTPAuthenticationError\u001b[0m: (535, b'5.7.139 Authentication unsuccessful, basic authentication is disabled. [CP6P284CA0089.BRAP284.PROD.OUTLOOK.COM 2025-01-17T20:35:56.192Z 08DD3625D7667CA6]')"
     ]
    }
   ],
   "source": [
    "# Função para enviar e-mails\n",
    "def enviar_emails(dados, email_usuario, senha_usuario):\n",
    "    smtp_host = \"smtp.office365.com\"  # Servidor SMTP do Outlook\n",
    "    smtp_port = 587  # Porta para conexão segura\n",
    "    \n",
    "    # Conectar ao servidor SMTP\n",
    "    with smtplib.SMTP(smtp_host, smtp_port) as server:\n",
    "        server.starttls()  # Iniciar conexão segura\n",
    "        server.login(email_usuario, senha_usuario)  # Autenticar no servidor\n",
    "        \n",
    "        for index, row in dados.iterrows():\n",
    "            # Criar a mensagem\n",
    "            msg = MIMEMultipart()\n",
    "            msg['From'] = email_usuario\n",
    "            msg['To'] = row['email']\n",
    "            msg['Subject'] = \"Relatório do Centro de Custo\"\n",
    "\n",
    "            # Corpo do e-mail\n",
    "            body = f\"\"\"\n",
    "            Prezado(a) {row['responsavel']},\n",
    "\n",
    "            Segue em anexo o relatório com as informações dos colaboradores alocados no centro de custo {row['centrodecusto']}.\n",
    "            \n",
    "            Qualquer dúvida, estou à disposição.\n",
    "\n",
    "            Atenciosamente,\n",
    "            Mirosmar Oliveira | Estagiário em EGR\n",
    "            \"\"\"\n",
    "            msg.attach(MIMEText(body, 'plain'))\n",
    "\n",
    "            # Anexar o PDF\n",
    "            nome_pdf = f\"pdfs/{row['responsavel'].replace(' ', '_')}.pdf\"\n",
    "            with open(nome_pdf, \"rb\") as attachment:\n",
    "                part = MIMEBase('application', 'octet-stream')\n",
    "                part.set_payload(attachment.read())\n",
    "                encoders.encode_base64(part)\n",
    "                part.add_header('Content-Disposition', f\"attachment; filename={os.path.basename(nome_pdf)}\")\n",
    "                msg.attach(part)\n",
    "\n",
    "            # Enviar e-mail\n",
    "            server.send_message(msg)\n",
    "            print(f\"E-mail enviado para {row['email']} com o anexo {nome_pdf}\")\n",
    "\n",
    "# Ler dados do Excel\n",
    "dados = pd.read_excel(\"CCxC.xlsx\")\n",
    "\n",
    "# Agrupar os dados por responsável e centro de custo\n",
    "agrupados = dados.groupby(['responsavel', 'centrodecusto'])['colaborador'].apply(list).reset_index()\n",
    "agrupados = agrupados.merge(dados[['responsavel', 'email']].drop_duplicates(), on='responsavel')\n",
    "\n",
    "# Enviar e-mails\n",
    "email_usuario = \"mirosmar.oliveira@hotmail.com\"  # Substitua pelo seu e-mail do Outlook\n",
    "senha_usuario = \"Mirosmar@282020\"  # Substitua pela sua senha\n",
    "enviar_emails(agrupados, email_usuario, senha_usuario)"
   ]
  },
  {
   "cell_type": "code",
   "execution_count": null,
   "id": "9dc82d73-4247-48bf-8025-20b792bbe686",
   "metadata": {},
   "outputs": [],
   "source": [
    "# Informações do e-mail:\n",
    "\n",
    "destinatario = \"mirosmaramigo1@gmail.com\"\n"
   ]
  }
 ],
 "metadata": {
  "kernelspec": {
   "display_name": "Python [conda env:base] *",
   "language": "python",
   "name": "conda-base-py"
  },
  "language_info": {
   "codemirror_mode": {
    "name": "ipython",
    "version": 3
   },
   "file_extension": ".py",
   "mimetype": "text/x-python",
   "name": "python",
   "nbconvert_exporter": "python",
   "pygments_lexer": "ipython3",
   "version": "3.12.7"
  }
 },
 "nbformat": 4,
 "nbformat_minor": 5
}
