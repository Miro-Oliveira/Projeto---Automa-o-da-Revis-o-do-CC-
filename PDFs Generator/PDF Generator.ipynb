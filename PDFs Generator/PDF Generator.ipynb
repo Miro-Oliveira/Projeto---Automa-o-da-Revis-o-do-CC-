{
 "cells": [
  {
   "cell_type": "code",
   "execution_count": 43,
   "id": "fa45e5a3-c02f-4001-9d6d-b75b437f8b5b",
   "metadata": {},
   "outputs": [],
   "source": [
    "import pandas as pd\n",
    "\n",
    "from fpdf import FPDF"
   ]
  },
  {
   "cell_type": "code",
   "execution_count": 87,
   "id": "1cd52860-4964-4dd9-a0b6-5c9474585f8e",
   "metadata": {},
   "outputs": [],
   "source": [
    "# Carregando e realizado a leitura:\n",
    "CCxC = \"CCxC.xlsx\"\n",
    "dados = pd.read_excel(CCxC)\n",
    "\n",
    "# Exemplo das colunas esperadas na planilha: \n",
    "# \"colaborador\", \"centrodecusto\", \"responsavel\", \"email\"\n"
   ]
  },
  {
   "cell_type": "code",
   "execution_count": 89,
   "id": "25a8db1b-1c0a-4c4f-9697-90c7dfa6c84f",
   "metadata": {},
   "outputs": [],
   "source": [
    "# Agrupar colaboradores por responsável e centro de custo:\n",
    "\n",
    "agrupados = dados.groupby(['responsavel', 'centrodecusto'])['colaborador'].apply(list).reset_index()\n",
    "agrupados = agrupados.merge(dados[['responsavel', 'email']].drop_duplicates(), on='responsavel')"
   ]
  },
  {
   "cell_type": "code",
   "execution_count": 91,
   "id": "67fb143d-c3e8-45c9-ac06-62476e26b43b",
   "metadata": {},
   "outputs": [
    {
     "name": "stdout",
     "output_type": "stream",
     "text": [
      "PDF gerado: Airton_Paulo.pdf\n",
      "PDF gerado: Carol_Oliveira.pdf\n",
      "PDF gerado: Guilherme_Oliver.pdf\n",
      "PDF gerado: Herique_Perri.pdf\n",
      "PDF gerado: Livia_Oliveira.pdf\n"
     ]
    }
   ],
   "source": [
    "from fpdf import FPDF\n",
    "\n",
    "class PDF(FPDF):\n",
    "    def header(self):\n",
    "        self.set_font('Arial', 'B', 12)\n",
    "        self.cell(0, 10, 'Relatório de Centro de Custo', 0, 1, 'C')\n",
    "\n",
    "    def chapter_title(self, title):\n",
    "        self.set_font('Arial', '', 12)\n",
    "        self.cell(0, 10, title, 0, 1, 'L')\n",
    "        self.ln(5)\n",
    "\n",
    "    def chapter_body(self, body):\n",
    "        self.set_font('Arial', '', 10)\n",
    "        self.multi_cell(0, 5, body)\n",
    "        self.ln()\n",
    "\n",
    "# Gerar os PDFs\n",
    "for index, row in agrupados.iterrows():\n",
    "    pdf = PDF()\n",
    "    pdf.add_page()\n",
    "    \n",
    "    # Título\n",
    "    pdf.chapter_title(f\"Responsável: {row['responsavel']}\")\n",
    "    \n",
    "    # Corpo do relatório\n",
    "    pdf.chapter_body(f\"Email do Responsável: {row['email']}\")\n",
    "    pdf.chapter_body(f\"Centro de Custo: {row['centrodecusto']}\")\n",
    "    pdf.chapter_body(\"Colaboradores:\")\n",
    "    \n",
    "    # Lista de colaboradores\n",
    "    for colaborador in row['colaborador']:\n",
    "        pdf.chapter_body(f\"- {colaborador}\")\n",
    "    \n",
    "    # Salvar PDF com o nome do responsável\n",
    "    nome_pdf = f\"{row['responsavel'].replace(' ', '_')}.pdf\"\n",
    "    pdf.output(nome_pdf)\n",
    "    \n",
    "    # Exibir confirmação\n",
    "    print(f\"PDF gerado: {nome_pdf}\")"
   ]
  }
 ],
 "metadata": {
  "kernelspec": {
   "display_name": "Python [conda env:base] *",
   "language": "python",
   "name": "conda-base-py"
  },
  "language_info": {
   "codemirror_mode": {
    "name": "ipython",
    "version": 3
   },
   "file_extension": ".py",
   "mimetype": "text/x-python",
   "name": "python",
   "nbconvert_exporter": "python",
   "pygments_lexer": "ipython3",
   "version": "3.12.7"
  }
 },
 "nbformat": 4,
 "nbformat_minor": 5
}
